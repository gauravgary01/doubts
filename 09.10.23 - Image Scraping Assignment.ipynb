{
 "cells": [
  {
   "cell_type": "code",
   "execution_count": 1,
   "id": "b8b5fd6b-3970-49f3-aafa-a6085d2026e1",
   "metadata": {
    "tags": []
   },
   "outputs": [],
   "source": [
    "from flask import Flask, render_template, request, jsonify\n",
    "from flask_cors import CORS,cross_origin\n",
    "import logging\n",
    "import os\n",
    "import requests\n",
    "import re\n",
    "import pandas as pd"
   ]
  },
  {
   "cell_type": "code",
   "execution_count": 2,
   "id": "ade18f0f-6710-4e50-9f4c-bc00695cbcf1",
   "metadata": {
    "tags": []
   },
   "outputs": [],
   "source": [
    "input_text = 'PW-Foundation'\n",
    "url = f'https://www.youtube.com/@{input_text}/videos'"
   ]
  },
  {
   "cell_type": "code",
   "execution_count": 3,
   "id": "3a30fd14-8953-473a-9e17-3c52929a50ca",
   "metadata": {
    "tags": []
   },
   "outputs": [
    {
     "name": "stdout",
     "output_type": "stream",
     "text": [
      "200\n"
     ]
    }
   ],
   "source": [
    "headers = {\"User-Agent\": \"Mozilla/5.0 (Windows NT 10.0; Win64; x64) AppleWebKit/537.36 (KHTML, like Gecko) Chrome/58.0.3029.110 Safari/537.36\"}\n",
    "response = requests.get(url, headers=headers)\n",
    "print(response.status_code)\n",
    "response_text = response.text"
   ]
  },
  {
   "cell_type": "code",
   "execution_count": 4,
   "id": "d155c2e2-e159-433a-817d-7be31697e2aa",
   "metadata": {
    "tags": []
   },
   "outputs": [],
   "source": [
    "vid_links = re.findall(r\"watch\\?v=[A-Za-z0-9_-]{11}\", response_text)"
   ]
  },
  {
   "cell_type": "code",
   "execution_count": 5,
   "id": "4fe91628-6af0-4ded-a96d-7ac59c35e672",
   "metadata": {
    "tags": []
   },
   "outputs": [
    {
     "name": "stdout",
     "output_type": "stream",
     "text": [
      "https://www.youtube.com/watch?v=dYh6Chnq0lo\n",
      "https://www.youtube.com/watch?v=v22z2ixxN1c\n",
      "https://www.youtube.com/watch?v=MksUgxuA8L4\n",
      "https://www.youtube.com/watch?v=3TL4-e3z7CA\n",
      "https://www.youtube.com/watch?v=U09HORTeaB8\n"
     ]
    }
   ],
   "source": [
    "for i in range(5):\n",
    "    print(\"https://www.youtube.com/\" + str(vid_links[i]))"
   ]
  },
  {
   "cell_type": "code",
   "execution_count": 6,
   "id": "97c611bf-5bdf-4888-be35-d9dc93e5eb09",
   "metadata": {
    "tags": []
   },
   "outputs": [],
   "source": [
    "vid_thumbnails = re.findall(r\"https://i.ytimg.com/vi/[A-Za-z0-9_-]{11}/[A-Za-z0-9_]{9}.jpg\", response_text)"
   ]
  },
  {
   "cell_type": "code",
   "execution_count": 7,
   "id": "b80948ae-caca-47e8-945b-ed2ad246b908",
   "metadata": {
    "tags": []
   },
   "outputs": [
    {
     "name": "stdout",
     "output_type": "stream",
     "text": [
      "https://i.ytimg.com/vi/dYh6Chnq0lo/hqdefault.jpg\n",
      "https://i.ytimg.com/vi/dYh6Chnq0lo/hqdefault.jpg\n",
      "https://i.ytimg.com/vi/dYh6Chnq0lo/hqdefault.jpg\n",
      "https://i.ytimg.com/vi/dYh6Chnq0lo/hqdefault.jpg\n",
      "https://i.ytimg.com/vi/v22z2ixxN1c/hqdefault.jpg\n"
     ]
    }
   ],
   "source": [
    "for i in range(5):\n",
    "    print(str(vid_thumbnails[i]))"
   ]
  },
  {
   "cell_type": "code",
   "execution_count": 8,
   "id": "94ddfa77-301b-4144-9ced-4365d77f80c3",
   "metadata": {
    "tags": []
   },
   "outputs": [],
   "source": [
    "vid_titles = re.findall('\"title\":{\"runs\":\\[{\"text\":\".*?\"', response_text)"
   ]
  },
  {
   "cell_type": "code",
   "execution_count": 9,
   "id": "58033d32-50ec-4b82-be08-3d8be9a758dd",
   "metadata": {
    "tags": []
   },
   "outputs": [
    {
     "name": "stdout",
     "output_type": "stream",
     "text": [
      "\"title\":{\"runs\":[{\"text\":\"Teacher's Day Offers 🔥 | Fastrack Batches LAUNCHED @₹1200 For 9th \\u0026 10th | Valid till 12th September\"\n",
      "\"title\":{\"runs\":[{\"text\":\"Launching FREE Batch for Class 12th  @PW-ArtsWallah  | NEW Channel | Check Description\"\n",
      "\"title\":{\"runs\":[{\"text\":\"Launching FREE Batch for Class 9th @Class9th-NEEV  | NEW Channel | Check Description\"\n",
      "\"title\":{\"runs\":[{\"text\":\"Launching FREE Batch for Class 10th @Class10th-UDAAN  | NEW Channel | Check Description.\"\n",
      "\"title\":{\"runs\":[{\"text\":\"MEGA MOCK TEST Series is LIVE Now 🔴|| For Class-9th \\u0026 10th Students @free\"\n"
     ]
    }
   ],
   "source": [
    "for i in range(5):\n",
    "    print(vid_titles[i])"
   ]
  },
  {
   "cell_type": "code",
   "execution_count": 10,
   "id": "f9c064da-1ea8-4c73-8044-4d5c204313ba",
   "metadata": {
    "tags": []
   },
   "outputs": [
    {
     "data": {
      "text/plain": [
       "re.compile(r'[0-9]+(\\.[0-9]+)?[a-zA-Z]*K views', re.UNICODE)"
      ]
     },
     "execution_count": 10,
     "metadata": {},
     "output_type": "execute_result"
    }
   ],
   "source": [
    "pattern3 = re.compile(r\"[0-9]+(\\.[0-9]+)?[a-zA-Z]*K views\")  # view count\n",
    "pattern3"
   ]
  },
  {
   "cell_type": "code",
   "execution_count": 11,
   "id": "11b1115c-1368-4bdc-bf1a-4a6b1bdd4cdc",
   "metadata": {
    "tags": []
   },
   "outputs": [
    {
     "data": {
      "text/plain": [
       "re.compile(r'\\d+ (minutes|hours|hour|days|day|weeks|week|years|year) ago',\n",
       "           re.UNICODE)"
      ]
     },
     "execution_count": 11,
     "metadata": {},
     "output_type": "execute_result"
    }
   ],
   "source": [
    "pattern4 = re.compile(r\"\\d+ (minutes|hours|hour|days|day|weeks|week|years|year) ago\")  # vedio age\n",
    "pattern4"
   ]
  },
  {
   "cell_type": "code",
   "execution_count": 12,
   "id": "ec3b083f-bc3a-4979-bf95-fee92e3ffebb",
   "metadata": {
    "tags": []
   },
   "outputs": [],
   "source": [
    "matches1 = pattern3.finditer(response_text)\n",
    "matches2 = pattern4.finditer(response_text)"
   ]
  },
  {
   "cell_type": "code",
   "execution_count": 13,
   "id": "09eb0b58-0aba-43c6-af2f-fdc659173922",
   "metadata": {
    "tags": []
   },
   "outputs": [],
   "source": [
    "vid_viewcounts=[]\n",
    "vid_ages=[]\n",
    "count = 0\n",
    "for match1,match2 in zip(matches1,matches2):\n",
    "    vid_ages.append(match2[0])\n",
    "    vid_viewcounts.append(match1[0])"
   ]
  },
  {
   "cell_type": "code",
   "execution_count": 14,
   "id": "92ffe733-e638-4597-b760-5c546a72e473",
   "metadata": {
    "tags": []
   },
   "outputs": [
    {
     "name": "stdout",
     "output_type": "stream",
     "text": [
      "23K views\n",
      "23K views\n",
      "13K views\n",
      "13K views\n",
      "102K views\n"
     ]
    }
   ],
   "source": [
    "for i in range(5):\n",
    "    print(vid_viewcounts[i])"
   ]
  },
  {
   "cell_type": "code",
   "execution_count": 15,
   "id": "37373545-3afa-4c69-b7ca-58ac3da685f7",
   "metadata": {
    "tags": []
   },
   "outputs": [
    {
     "name": "stdout",
     "output_type": "stream",
     "text": [
      "4 days ago\n",
      "4 days ago\n",
      "7 days ago\n",
      "7 days ago\n",
      "8 days ago\n"
     ]
    }
   ],
   "source": [
    "for i in range(5):\n",
    "    print(vid_ages[i])"
   ]
  },
  {
   "cell_type": "code",
   "execution_count": 22,
   "id": "0c6ae85b-cd40-4826-8e07-37ccc7d443ec",
   "metadata": {
    "tags": []
   },
   "outputs": [
    {
     "data": {
      "text/plain": [
       "[{'title': \"Teacher's Day Offers 🔥 | Fastrack Batches LAUNCHED @₹1200 For 9th \\\\u0026 10th | Valid till 12th September\",\n",
       "  'thumbnail': 'https://i.ytimg.com/vi/dYh6Chnq0lo/hqdefault.jpg',\n",
       "  'link': 'https://www.youtube.com/watch?v=dYh6Chnq0lo',\n",
       "  'viewcount': '23K views',\n",
       "  'age': '4 days ago'},\n",
       " {'title': 'Launching FREE Batch for Class 12th  @PW-ArtsWallah  | NEW Channel | Check Description',\n",
       "  'thumbnail': 'https://i.ytimg.com/vi/v22z2ixxN1c/hqdefault.jpg',\n",
       "  'link': 'https://www.youtube.com/watch?v=v22z2ixxN1c',\n",
       "  'viewcount': '13K views',\n",
       "  'age': '7 days ago'},\n",
       " {'title': 'Launching FREE Batch for Class 9th @Class9th-NEEV  | NEW Channel | Check Description',\n",
       "  'thumbnail': 'https://i.ytimg.com/vi/MksUgxuA8L4/hqdefault.jpg',\n",
       "  'link': 'https://www.youtube.com/watch?v=MksUgxuA8L4',\n",
       "  'viewcount': '102K views',\n",
       "  'age': '8 days ago'},\n",
       " {'title': 'Launching FREE Batch for Class 10th @Class10th-UDAAN  | NEW Channel | Check Description.',\n",
       "  'thumbnail': 'https://i.ytimg.com/vi/3TL4-e3z7CA/hqdefault.jpg',\n",
       "  'link': 'https://www.youtube.com/watch?v=3TL4-e3z7CA',\n",
       "  'viewcount': '143K views',\n",
       "  'age': '9 days ago'},\n",
       " {'title': 'MEGA MOCK TEST Series is LIVE Now 🔴|| For Class-9th \\\\u0026 10th Students @free',\n",
       "  'thumbnail': 'https://i.ytimg.com/vi/U09HORTeaB8/hqdefault.jpg',\n",
       "  'link': 'https://www.youtube.com/watch?v=U09HORTeaB8',\n",
       "  'viewcount': '56K views',\n",
       "  'age': '2 weeks ago'}]"
      ]
     },
     "execution_count": 22,
     "metadata": {},
     "output_type": "execute_result"
    }
   ],
   "source": [
    "titles = vid_titles[0:5]\n",
    "thumbnails = list(dict.fromkeys(vid_thumbnails))\n",
    "links = vid_links[0:5]\n",
    "viewcounts=vid_viewcounts[0:10:2]\n",
    "ages=vid_ages[0:10:2]\n",
    "\n",
    "details_list=[]\n",
    "\n",
    "for title,thumbnail,link,viewcount,age in zip(titles,thumbnails,links,viewcounts,ages):\n",
    "    details_dict={\n",
    "        \"title\":str(title.split('\"')[-2]),\n",
    "        \"thumbnail\": str(thumbnail),\n",
    "        \"link\": \"https://www.youtube.com/\"+str(link),\n",
    "        \"viewcount\": str(viewcount),\n",
    "        \"age\": str(age)\n",
    "    }\n",
    "    details_list.append(details_dict)\n",
    "\n",
    "\n",
    "\n",
    "details_list"
   ]
  },
  {
   "cell_type": "code",
   "execution_count": 31,
   "id": "586c7137-8e78-4f9f-bbb0-5999f39365c9",
   "metadata": {
    "tags": []
   },
   "outputs": [],
   "source": [
    "import csv\n",
    "\n",
    "titles = vid_titles[0:5]\n",
    "thumbnails = list(dict.fromkeys(vid_thumbnails))\n",
    "links = vid_links[0:5]\n",
    "viewcounts=vid_viewcounts[0:10:2]\n",
    "ages=vid_ages[0:10:2]\n",
    "\n",
    "\n",
    "\n",
    "details_list2 = []\n",
    "\n",
    "# Assuming you have your data in titles, thumbnails, links, viewcounts, and ages lists\n",
    "\n",
    "for title,thumbnail,link,viewcount,age in zip(titles,thumbnails,links,viewcounts,ages):\n",
    "    details_dict2={\n",
    "        \"title\":title.split('\"')[-2],\n",
    "        \"thumbnail\": thumbnail,\n",
    "        \"link\": \"https://www.youtube.com/\"+link,\n",
    "        \"viewcount\": viewcount,\n",
    "        \"age\": age\n",
    "    }\n",
    "    details_list2.append(details_dict)\n",
    "\n",
    "# Save the details_list to a CSV file\n",
    "with open(\"output.csv\", \"w\", newline=\"\", encoding=\"utf-8\") as csv_file:\n",
    "    fieldnames = [\"title\", \"thumbnail\", \"link\", \"viewcount\", \"age\"]\n",
    "    writer = csv.DictWriter(csv_file, fieldnames=fieldnames)\n",
    "    \n",
    "    # Write the header row\n",
    "    writer.writeheader()\n",
    "    \n",
    "    # Write the data rows\n",
    "    for details_dict2 in details_list2:\n",
    "        writer.writerow(details_dict2)"
   ]
  },
  {
   "cell_type": "code",
   "execution_count": 33,
   "id": "35106134-944c-47aa-99aa-92253ec4ef35",
   "metadata": {
    "tags": []
   },
   "outputs": [
    {
     "data": {
      "text/plain": [
       "[{'title': 'MEGA MOCK TEST Series is LIVE Now 🔴|| For Class-9th \\\\u0026 10th Students @free',\n",
       "  'thumbnail': 'https://i.ytimg.com/vi/U09HORTeaB8/hqdefault.jpg',\n",
       "  'link': 'https://www.youtube.com/watch?v=U09HORTeaB8',\n",
       "  'viewcount': '56K views',\n",
       "  'age': '2 weeks ago'},\n",
       " {'title': 'MEGA MOCK TEST Series is LIVE Now 🔴|| For Class-9th \\\\u0026 10th Students @free',\n",
       "  'thumbnail': 'https://i.ytimg.com/vi/U09HORTeaB8/hqdefault.jpg',\n",
       "  'link': 'https://www.youtube.com/watch?v=U09HORTeaB8',\n",
       "  'viewcount': '56K views',\n",
       "  'age': '2 weeks ago'},\n",
       " {'title': 'MEGA MOCK TEST Series is LIVE Now 🔴|| For Class-9th \\\\u0026 10th Students @free',\n",
       "  'thumbnail': 'https://i.ytimg.com/vi/U09HORTeaB8/hqdefault.jpg',\n",
       "  'link': 'https://www.youtube.com/watch?v=U09HORTeaB8',\n",
       "  'viewcount': '56K views',\n",
       "  'age': '2 weeks ago'},\n",
       " {'title': 'MEGA MOCK TEST Series is LIVE Now 🔴|| For Class-9th \\\\u0026 10th Students @free',\n",
       "  'thumbnail': 'https://i.ytimg.com/vi/U09HORTeaB8/hqdefault.jpg',\n",
       "  'link': 'https://www.youtube.com/watch?v=U09HORTeaB8',\n",
       "  'viewcount': '56K views',\n",
       "  'age': '2 weeks ago'},\n",
       " {'title': 'MEGA MOCK TEST Series is LIVE Now 🔴|| For Class-9th \\\\u0026 10th Students @free',\n",
       "  'thumbnail': 'https://i.ytimg.com/vi/U09HORTeaB8/hqdefault.jpg',\n",
       "  'link': 'https://www.youtube.com/watch?v=U09HORTeaB8',\n",
       "  'viewcount': '56K views',\n",
       "  'age': '2 weeks ago'}]"
      ]
     },
     "execution_count": 33,
     "metadata": {},
     "output_type": "execute_result"
    }
   ],
   "source": [
    "details_list2"
   ]
  },
  {
   "cell_type": "code",
   "execution_count": null,
   "id": "77d70b55-e065-435a-855b-ff6fd8d71ac6",
   "metadata": {},
   "outputs": [],
   "source": []
  }
 ],
 "metadata": {
  "kernelspec": {
   "display_name": "Python 3 (ipykernel)",
   "language": "python",
   "name": "python3"
  },
  "language_info": {
   "codemirror_mode": {
    "name": "ipython",
    "version": 3
   },
   "file_extension": ".py",
   "mimetype": "text/x-python",
   "name": "python",
   "nbconvert_exporter": "python",
   "pygments_lexer": "ipython3",
   "version": "3.11.4"
  }
 },
 "nbformat": 4,
 "nbformat_minor": 5
}
